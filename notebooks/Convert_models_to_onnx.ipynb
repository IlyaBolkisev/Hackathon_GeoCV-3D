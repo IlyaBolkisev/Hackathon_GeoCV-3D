{
 "cells": [
  {
   "cell_type": "code",
   "execution_count": 1,
   "id": "be526d60",
   "metadata": {},
   "outputs": [],
   "source": [
    "import sys\n",
    "sys.path.insert(1, '../')\n",
    "\n",
    "import torch\n",
    "import warnings \n",
    "from modules.models import *\n",
    "\n",
    "warnings.filterwarnings('ignore') "
   ]
  },
  {
   "cell_type": "markdown",
   "id": "56ab5747",
   "metadata": {},
   "source": [
    "# Convert DispNetB"
   ]
  },
  {
   "cell_type": "code",
   "execution_count": 2,
   "id": "7b5c6dfb",
   "metadata": {},
   "outputs": [
    {
     "name": "stdout",
     "output_type": "stream",
     "text": [
      "torch.Size([1, 1, 137, 137]) torch.Size([1, 1, 137, 137])\n"
     ]
    }
   ],
   "source": [
    "model = DispNetB()\n",
    "model.load_state_dict(torch.load(f'../weights/disp.pth', map_location=torch.device('cpu')))\n",
    "\n",
    "input_1, input_2 = torch.rand((1, 3, 137, 137)), torch.rand((1, 3, 137, 137))\n",
    "with torch.no_grad():\n",
    "    pred_1, pred_2 = model(input_1, input_2)\n",
    "    print(pred_1.shape, pred_2.shape)\n",
    "\n",
    "torch.onnx.export(model, (input_1, input_2), \"../weights/disp.onnx\", \n",
    "                  input_names=['left', 'right'], output_names=['disp_left', 'disp_right'],\n",
    "                  dynamic_axes={'left' : {0 : 'batch'}, 'right' : {0 : 'batch'}, 'disp_left' : {0 : 'batch'}, 'disp_right' : {0 : 'batch'}}, opset_version=17)"
   ]
  },
  {
   "cell_type": "markdown",
   "id": "ca9a6396",
   "metadata": {},
   "source": [
    "# Convert Encoder"
   ]
  },
  {
   "cell_type": "code",
   "execution_count": 3,
   "id": "231f5d86",
   "metadata": {},
   "outputs": [
    {
     "name": "stdout",
     "output_type": "stream",
     "text": [
      "torch.Size([1, 8192]) torch.Size([1, 256, 34, 34])\n"
     ]
    }
   ],
   "source": [
    "model = Encoder()\n",
    "model.load_state_dict(torch.load(f'../weights/enc.pth', map_location=torch.device('cpu')))\n",
    "\n",
    "input_1 = torch.rand((1, 4, 137, 137))\n",
    "with torch.no_grad():\n",
    "    pred_1, pred_2 = model(input_1)\n",
    "    print(pred_1.shape, pred_2.shape)\n",
    "\n",
    "torch.onnx.export(model, input_1, \"../weights/enc.onnx\", \n",
    "                  input_names=['rgbd'], output_names=['emb', 'cor'],\n",
    "                  dynamic_axes={'rgbd' : {0 : 'batch'}, 'emb' : {0 : 'batch'}, 'cor' : {0 : 'batch'}}, opset_version=11)"
   ]
  },
  {
   "cell_type": "markdown",
   "id": "2aeb57c5",
   "metadata": {},
   "source": [
    "# Convert Corr"
   ]
  },
  {
   "cell_type": "code",
   "execution_count": 4,
   "id": "d60cabf2",
   "metadata": {},
   "outputs": [
    {
     "name": "stdout",
     "output_type": "stream",
     "text": [
      "torch.Size([1, 4096])\n"
     ]
    }
   ],
   "source": [
    "model = CorrNet(torch.device('cpu'))\n",
    "model.load_state_dict(torch.load(f'../weights/cor.pth', map_location=torch.device('cpu')))\n",
    "\n",
    "input_1, input_2 = torch.rand((1, 256, 34, 34)), torch.rand((1, 256, 34, 34))\n",
    "with torch.no_grad():\n",
    "    pred_1 = model(input_1, input_2)\n",
    "    print(pred_1.shape)\n",
    "\n",
    "torch.onnx.export(model, (input_1, input_2), \"../weights/cor.onnx\", \n",
    "                  input_names=['left', 'right'], output_names=['output'],\n",
    "                  dynamic_axes={'left' : {0 : 'batch'}, 'right' : {0 : 'batch'}, 'output' : {0 : 'batch'}}, opset_version=17)"
   ]
  },
  {
   "cell_type": "markdown",
   "id": "63cfc2ba",
   "metadata": {},
   "source": [
    "# Convert Decoder"
   ]
  },
  {
   "cell_type": "code",
   "execution_count": 5,
   "id": "45689384",
   "metadata": {},
   "outputs": [
    {
     "name": "stdout",
     "output_type": "stream",
     "text": [
      "torch.Size([1, 32, 32, 32])\n"
     ]
    }
   ],
   "source": [
    "model = Decoder()\n",
    "model.load_state_dict(torch.load(f'../weights/dec.pth', map_location=torch.device('cpu')))\n",
    "\n",
    "input_1, input_2, input_3 = torch.rand((1, 128, 4, 4, 4)), torch.rand((1, 128, 4, 4, 4)), torch.rand((1, 64, 4, 4, 4))\n",
    "with torch.no_grad():\n",
    "    pred_1 = model(input_1, input_2, input_3)\n",
    "    print(pred_1.shape)\n",
    "\n",
    "torch.onnx.export(model, (input_1, input_2, input_3), \"../weights/dec.onnx\", \n",
    "                  input_names=['left', 'right', 'cor'], output_names=['output'],\n",
    "                  dynamic_axes={'left' : {0 : 'batch'}, 'right' : {0 : 'batch'}, 'cor' : {0 : 'batch'}, 'output' : {0 : 'batch'}}, opset_version=17)"
   ]
  },
  {
   "cell_type": "code",
   "execution_count": null,
   "id": "524f6bd0",
   "metadata": {},
   "outputs": [],
   "source": []
  }
 ],
 "metadata": {
  "kernelspec": {
   "display_name": "Python 3 (ipykernel)",
   "language": "python",
   "name": "python3"
  },
  "language_info": {
   "codemirror_mode": {
    "name": "ipython",
    "version": 3
   },
   "file_extension": ".py",
   "mimetype": "text/x-python",
   "name": "python",
   "nbconvert_exporter": "python",
   "pygments_lexer": "ipython3",
   "version": "3.9.12"
  }
 },
 "nbformat": 4,
 "nbformat_minor": 5
}
